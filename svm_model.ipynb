{
 "cells": [
  {
   "cell_type": "code",
   "execution_count": 15,
   "metadata": {},
   "outputs": [],
   "source": [
    "import cv2 as cv\n",
    "import os\n",
    "import numpy as np\n",
    "from sklearn.model_selection import train_test_split\n",
    "from sklearn.metrics import accuracy_score"
   ]
  },
  {
   "cell_type": "code",
   "execution_count": 16,
   "metadata": {},
   "outputs": [],
   "source": [
    "# Function to load image data\n",
    "def load_data(dir_list, image_size):\n",
    "    data = []\n",
    "    label = []\n",
    "    image_width, image_height = image_size\n",
    "    \n",
    "    for directory in dir_list:\n",
    "        for filename in os.listdir(directory):\n",
    "            image = cv.imread(os.path.join(directory, filename), 0)\n",
    "            image = cv.resize(image, dsize=(image_width, image_height), interpolation=cv.INTER_CUBIC)\n",
    "            image = image / 255.0\n",
    "            image = image.astype(np.float32)\n",
    "            data.append(image.flatten())  # Flatten the image to use with SVM\n",
    "            if directory == 'yes':\n",
    "                label.append(1)  # Tumor\n",
    "            else:\n",
    "                label.append(0)  # No tumor\n",
    "    data_array = np.array(data)\n",
    "    label = np.array(label) \n",
    "    return data_array, label"
   ]
  },
  {
   "cell_type": "code",
   "execution_count": 17,
   "metadata": {},
   "outputs": [],
   "source": [
    "# Load data\n",
    "x, y = load_data(['yes', 'no'], (256, 256))\n"
   ]
  },
  {
   "cell_type": "code",
   "execution_count": 18,
   "metadata": {},
   "outputs": [
    {
     "name": "stdout",
     "output_type": "stream",
     "text": [
      "Input Shape:\n",
      "(2400, 65536) (2400,)\n",
      "(600, 65536) (600,)\n",
      "Output Shape:\n",
      "(2400, 65536) (2400,)\n",
      "(600, 65536) (600,)\n",
      "(600, 65536) (600,)\n"
     ]
    }
   ],
   "source": [
    "# Split data\n",
    "def split_data(test_size=0.2, log=True):\n",
    "    x_train, x_test_val, y_train, y_test_val = train_test_split(x, y, test_size=test_size, shuffle=True)\n",
    "    if log:\n",
    "        print('Input Shape:')\n",
    "        print(x_train.shape, y_train.shape)\n",
    "        print(x_test_val.shape, y_test_val.shape)\n",
    "    x_test = x_test_val\n",
    "    x_val = x_test_val\n",
    "    y_test = y_test_val\n",
    "    y_val = y_test_val\n",
    "    if log:\n",
    "        print('Output Shape:')\n",
    "        print(x_train.shape, y_train.shape)\n",
    "        print(x_test.shape, y_test.shape)\n",
    "        print(x_val.shape, y_val.shape)\n",
    "    return x_train, x_test, y_train, y_test, x_val, y_val\n",
    "\n",
    "x_train, x_test, y_train, y_test, x_val, y_val = split_data()\n",
    "validation_dataset = (x_val, y_val)\n"
   ]
  },
  {
   "cell_type": "code",
   "execution_count": 19,
   "metadata": {},
   "outputs": [],
   "source": [
    "# SVM Model\n",
    "class SVM:\n",
    "    def __init__(self, lr=0.001, epochs=100):\n",
    "        self.lr = lr\n",
    "        self.epochs = epochs\n",
    "        self.weights = None  # Initialize weights\n",
    "        self.bias = None  # Initialize bias\n",
    "        \n",
    "    def train(self, X, y):\n",
    "        self.X = X\n",
    "        self.y = y\n",
    "        self.n_samples, self.n_features = X.shape\n",
    "        \n",
    "        # Initialize weights and bias\n",
    "        self.weights = np.zeros(self.n_features) if self.weights is None else self.weights\n",
    "        self.bias = 0 if self.bias is None else self.bias\n",
    "        \n",
    "        # Gradient descent\n",
    "        for _ in range(self.epochs):\n",
    "            for idx, x_i in enumerate(self.X):\n",
    "                condition = self.y[idx] * (np.dot(x_i, self.weights) - self.bias) >= 1\n",
    "                if condition:\n",
    "                    self.weights -= self.lr * (2 * 1 / self.epochs * self.weights)\n",
    "                else:\n",
    "                    self.weights -= self.lr * (2 * 1 / self.epochs * self.weights - np.dot(x_i, self.y[idx]))\n",
    "                    self.bias -= self.lr * self.y[idx]\n",
    "    \n",
    "    def predict(self, X):\n",
    "        return np.sign(np.dot(X, self.weights) - self.bias)\n"
   ]
  },
  {
   "cell_type": "code",
   "execution_count": 20,
   "metadata": {},
   "outputs": [],
   "source": [
    "# Train SVM Model\n",
    "svm_model = SVM()\n",
    "svm_model.train(x_train, y_train)"
   ]
  },
  {
   "cell_type": "code",
   "execution_count": 21,
   "metadata": {},
   "outputs": [],
   "source": [
    "# Make predictions\n",
    "y_train_pred = svm_model.predict(x_train)\n",
    "y_test_pred = svm_model.predict(x_test)"
   ]
  },
  {
   "cell_type": "code",
   "execution_count": 22,
   "metadata": {},
   "outputs": [],
   "source": [
    "\n",
    "# Calculate accuracies\n",
    "train_accuracy = accuracy_score(y_train, y_train_pred)\n",
    "test_accuracy = accuracy_score(y_test, y_test_pred)"
   ]
  },
  {
   "cell_type": "code",
   "execution_count": 23,
   "metadata": {},
   "outputs": [
    {
     "name": "stdout",
     "output_type": "stream",
     "text": [
      "SVM Train Accuracy: 0.5095833333333334\n",
      "SVM Test Accuracy: 0.46166666666666667\n"
     ]
    }
   ],
   "source": [
    "\n",
    "print(\"SVM Train Accuracy:\", train_accuracy)\n",
    "print(\"SVM Test Accuracy:\", test_accuracy)"
   ]
  },
  {
   "cell_type": "code",
   "execution_count": 24,
   "metadata": {},
   "outputs": [],
   "source": [
    "import pickle\n",
    "\n",
    "# Save SVM model\n",
    "def save_model(model, filename):\n",
    "    with open(filename, 'wb') as f:\n",
    "        pickle.dump(model, f)\n",
    "\n",
    "# Save the trained SVM model\n",
    "save_model(svm_model, 'svm_model.pkl')"
   ]
  },
  {
   "cell_type": "code",
   "execution_count": null,
   "metadata": {},
   "outputs": [],
   "source": []
  }
 ],
 "metadata": {
  "kernelspec": {
   "display_name": "Python 3 (ipykernel)",
   "language": "python",
   "name": "python3"
  },
  "language_info": {
   "codemirror_mode": {
    "name": "ipython",
    "version": 3
   },
   "file_extension": ".py",
   "mimetype": "text/x-python",
   "name": "python",
   "nbconvert_exporter": "python",
   "pygments_lexer": "ipython3",
   "version": "3.10.10"
  }
 },
 "nbformat": 4,
 "nbformat_minor": 4
}
